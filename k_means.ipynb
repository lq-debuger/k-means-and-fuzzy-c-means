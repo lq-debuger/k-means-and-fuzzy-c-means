{
 "cells": [
  {
   "cell_type": "code",
   "execution_count": 43,
   "metadata": {},
   "outputs": [],
   "source": [
    "import numpy as np\n",
    "import random \n",
    "import pandas as pd\n",
    "import matplotlib.pyplot as plt \n",
    "\n",
    "def distance(point1, point2):  # 计算距离（欧几里得距离）\n",
    "    return np.sqrt(np.sum((point1 - point2) ** 2))\n",
    "\n",
    "def k_means(data, k, max_iter=10000):\n",
    "    centers = {}  # 初始聚类中心\n",
    "    # 初始化，随机选k个样本作为初始聚类中心。 random.sample(): 随机不重复抽取k个值\n",
    "    n_data = data.shape[0]   # 样本个数\n",
    "    for idx, i in enumerate(random.sample(range(n_data), k)):\n",
    "        # idx取值范围[0, k-1]，代表第几个聚类中心;  data[i]为随机选取的样本作为聚类中心\n",
    "        centers[idx] = data[i]  \n",
    "\n",
    "    # 开始迭代\n",
    "    for i in range(max_iter):  # 迭代次数\n",
    "        print(\"开始第{}次迭代\".format(i+1))\n",
    "        clusters = {}    # 聚类结果，聚类中心的索引idx -> [样本集合]\n",
    "        for j in range(k):  # 初始化为空列表\n",
    "            clusters[j] = []\n",
    "            \n",
    "        for sample in data:  # 遍历每个样本\n",
    "            distances = []  # 计算该样本到每个聚类中心的距离 (只会有k个元素)\n",
    "            for c in centers:  # 遍历每个聚类中心\n",
    "                # 添加该样本点到聚类中心的距离\n",
    "                distances.append(distance(sample, centers[c])) \n",
    "            idx = np.argmin(distances)  # 最小距离的索引\n",
    "            clusters[idx].append(sample)   # 将该样本添加到第idx个聚类中心\n",
    "            \n",
    "        pre_centers = centers.copy()  # 记录之前的聚类中心点\n",
    "\n",
    "        for c in clusters.keys():\n",
    "            # 重新计算中心点（计算该聚类中心的所有样本的均值）\n",
    "            centers[c] = np.mean(clusters[c], axis=0)\n",
    "  \n",
    "        is_convergent = True\n",
    "        for c in centers:\n",
    "            if distance(pre_centers[c], centers[c]) > 1e-8:  # 中心点是否变化\n",
    "                is_convergent = False\n",
    "                break\n",
    "        if is_convergent == True:  \n",
    "            # 如果新旧聚类中心不变，则迭代停止\n",
    "            break\n",
    "    return centers, clusters\n",
    "\n",
    "def predict(p_data, centers):  # 预测新样本点所在的类\n",
    "    # 计算p_data 到每个聚类中心的距离，然后返回距离最小所在的聚类。\n",
    "    distances = [distance(p_data, centers[c]) for c in centers]  \n",
    "    return np.argmin(distances)    "
   ]
  },
  {
   "cell_type": "code",
   "execution_count": 44,
   "metadata": {},
   "outputs": [
    {
     "name": "stdout",
     "output_type": "stream",
     "text": [
      "开始第1次迭代\n",
      "开始第2次迭代\n",
      "开始第3次迭代\n",
      "开始第4次迭代\n",
      "开始第5次迭代\n",
      "开始第6次迭代\n",
      "开始第7次迭代\n",
      "开始第8次迭代\n",
      "开始第9次迭代\n",
      "开始第10次迭代\n"
     ]
    }
   ],
   "source": [
    "data_full = pd.read_csv(\"test.csv\")\n",
    "data = np.array(data_full)\n",
    "centers , clusters = k_means(data,3)"
   ]
  },
  {
   "cell_type": "markdown",
   "metadata": {},
   "source": []
  },
  {
   "cell_type": "code",
   "execution_count": 45,
   "metadata": {},
   "outputs": [],
   "source": [
    "# clusters"
   ]
  },
  {
   "cell_type": "code",
   "execution_count": 46,
   "metadata": {},
   "outputs": [
    {
     "name": "stdout",
     "output_type": "stream",
     "text": [
      "0\n",
      "1\n",
      "2\n"
     ]
    },
    {
     "data": {
      "image/png": "[encoded data removed]",
      "text/plain": [
       "<Figure size 432x432 with 1 Axes>"
      ]
     },
     "metadata": {
      "needs_background": "light"
     },
     "output_type": "display_data"
    }
   ],
   "source": [
    "fig,axe = plt.subplots(figsize=(6,6))\n",
    "axe.set_title(\"k-means\")\n",
    "axe.set_xlim(0,60)\n",
    "axe.set_ylim(0,60)\n",
    "# axe.scatter(centers[0],centers[1],marker=\"*\",s=100)\n",
    "for center in centers:\n",
    "    print(center)\n",
    "    axe.scatter(centers[center][0],centers[center][1],marker=\"x\",s=100)\n",
    "colors = ['r','g','b','y','c','m']\n",
    "mk = ['o','+','*']\n",
    "for i in clusters:\n",
    "    for point in clusters[i]:\n",
    "        axe.scatter(point[0],point[1],c=colors[i],marker=mk[i],s=30)"
   ]
  },
  {
   "cell_type": "code",
   "execution_count": null,
   "metadata": {},
   "outputs": [],
   "source": []
  }
 ],
 "metadata": {
  "interpreter": {
   "hash": "4905652b14e4b7eb92899b78ac499a22c488804455b27940a322fd82aaf71031"
  },
  "kernelspec": {
   "display_name": "Python 3.8.3 64-bit ('base': conda)",
   "name": "python3"
  },
  "language_info": {
   "codemirror_mode": {
    "name": "ipython",
    "version": 3
   },
   "file_extension": ".py",
   "mimetype": "text/x-python",
   "name": "python",
   "nbconvert_exporter": "python",
   "pygments_lexer": "ipython3",
   "version": "3.8.3"
  },
  "orig_nbformat": 4
 },
 "nbformat": 4,
 "nbformat_minor": 2
}
